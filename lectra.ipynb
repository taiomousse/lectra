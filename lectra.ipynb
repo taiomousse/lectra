{
 "cells": [
  {
   "cell_type": "code",
   "execution_count": 34,
   "metadata": {},
   "outputs": [],
   "source": [
    "import tensorflow as tf\n",
    "import matplotlib.pyplot as plt\n",
    "import sklearn \n",
    "import pandas as pd "
   ]
  },
  {
   "cell_type": "code",
   "execution_count": 111,
   "metadata": {},
   "outputs": [],
   "source": [
    "lectra = pd.read_excel(\"LECTRA00.xlsx\")"
   ]
  },
  {
   "cell_type": "code",
   "execution_count": 127,
   "metadata": {},
   "outputs": [],
   "source": [
    "df = lectra.copy()"
   ]
  },
  {
   "cell_type": "code",
   "execution_count": 132,
   "metadata": {},
   "outputs": [
    {
     "name": "stdout",
     "output_type": "stream",
     "text": [
      "(49960, 299)\n",
      "(49960, 299)\n"
     ]
    }
   ],
   "source": [
    "import numpy as np\n",
    "print(df.shape)\n",
    "df[\"market\"].replace(\"\", np.nan, inplace=True)\n",
    "df.dropna(subset = [\"market\"], inplace=True)\n",
    "print(df.shape)"
   ]
  },
  {
   "cell_type": "code",
   "execution_count": 129,
   "metadata": {},
   "outputs": [
    {
     "name": "stdout",
     "output_type": "stream",
     "text": [
      "(46859, 299)\n",
      "(3101, 299)\n"
     ]
    }
   ],
   "source": [
    "groups = df.groupby(df.production_line)\n",
    "\n",
    "df_line_vector = groups.get_group(\"VECTOR\")\n",
    "df_line_virga = groups.get_group(\"VIRGA\")\n",
    "\n",
    "print(df_line_vector.shape)\n",
    "print(df_line_virga.shape)"
   ]
  },
  {
   "cell_type": "code",
   "execution_count": 130,
   "metadata": {},
   "outputs": [],
   "source": [
    "df_line_vector2 = df_line_vector.dropna(axis=1,how=\"any\")\n",
    "df_line_virga2 = df_line_virga.dropna(axis=1,how=\"any\")"
   ]
  },
  {
   "cell_type": "code",
   "execution_count": 131,
   "metadata": {
    "scrolled": true
   },
   "outputs": [],
   "source": [
    "df_line_vector2.to_csv(\"VECTOR.csv\")\n",
    "df_line_virga2.to_csv(\"VIRGA.csv\")"
   ]
  },
  {
   "cell_type": "code",
   "execution_count": 175,
   "metadata": {},
   "outputs": [
    {
     "name": "stdout",
     "output_type": "stream",
     "text": [
      "(46859, 208)\n",
      "(3101, 170)\n"
     ]
    }
   ],
   "source": [
    "print(df_line_vector2.shape)\n",
    "print(df_line_virga2.shape)"
   ]
  }
 ],
 "metadata": {
  "kernelspec": {
   "display_name": "Python 3 (ipykernel)",
   "language": "python",
   "name": "python3"
  },
  "language_info": {
   "codemirror_mode": {
    "name": "ipython",
    "version": 3
   },
   "file_extension": ".py",
   "mimetype": "text/x-python",
   "name": "python",
   "nbconvert_exporter": "python",
   "pygments_lexer": "ipython3",
   "version": "3.9.12"
  }
 },
 "nbformat": 4,
 "nbformat_minor": 2
}
